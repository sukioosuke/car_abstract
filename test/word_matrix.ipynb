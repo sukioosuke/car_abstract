{
 "cells": [
  {
   "cell_type": "code",
   "execution_count": 1,
   "metadata": {},
   "outputs": [
    {
     "data": {
      "text/plain": [
       "PosixPath('/home/mi/github/car_abstract')"
      ]
     },
     "execution_count": 1,
     "metadata": {},
     "output_type": "execute_result"
    }
   ],
   "source": [
    "import logging\n",
    "import pathlib\n",
    "import os\n",
    "import sys\n",
    "from gensim.models.word2vec import LineSentence\n",
    "from gensim.models import word2vec\n",
    "root = pathlib.Path(os.path.abspath(os.curdir)).parent\n",
    "sys.path.append(os.path.join(root, 'src'))\n",
    "from utils.paths import *\n",
    "root"
   ]
  },
  {
   "cell_type": "code",
   "execution_count": 2,
   "metadata": {},
   "outputs": [
    {
     "name": "stderr",
     "output_type": "stream",
     "text": [
      "2019-12-03 17:10:05,381 : WARNING : consider setting layer size to a multiple of 4 for greater performance\n",
      "2019-12-03 17:10:05,382 : INFO : collecting all words and their counts\n",
      "2019-12-03 17:10:05,384 : INFO : PROGRESS: at sentence #0, processed 0 words, keeping 0 word types\n",
      "2019-12-03 17:10:05,795 : INFO : PROGRESS: at sentence #10000, processed 794231 words, keeping 43063 word types\n",
      "2019-12-03 17:10:06,099 : INFO : PROGRESS: at sentence #20000, processed 1598516 words, keeping 64456 word types\n",
      "2019-12-03 17:10:06,414 : INFO : PROGRESS: at sentence #30000, processed 2384531 words, keeping 81799 word types\n",
      "2019-12-03 17:10:06,744 : INFO : PROGRESS: at sentence #40000, processed 3143217 words, keeping 97070 word types\n",
      "2019-12-03 17:10:07,093 : INFO : PROGRESS: at sentence #50000, processed 3962421 words, keeping 111419 word types\n",
      "2019-12-03 17:10:07,408 : INFO : PROGRESS: at sentence #60000, processed 4828237 words, keeping 125319 word types\n",
      "2019-12-03 17:10:07,710 : INFO : PROGRESS: at sentence #70000, processed 5715651 words, keeping 138774 word types\n",
      "2019-12-03 17:10:08,023 : INFO : PROGRESS: at sentence #80000, processed 6515692 words, keeping 151729 word types\n",
      "2019-12-03 17:10:08,074 : INFO : collected 153756 word types from a corpus of 6636892 raw words and 81572 sentences\n",
      "2019-12-03 17:10:08,075 : INFO : Loading a fresh vocabulary\n",
      "2019-12-03 17:10:08,222 : INFO : effective_min_count=5 retains 34616 unique words (22% of original 153756, drops 119140)\n",
      "2019-12-03 17:10:08,222 : INFO : effective_min_count=5 leaves 6487294 word corpus (97% of original 6636892, drops 149598)\n",
      "2019-12-03 17:10:08,338 : INFO : deleting the raw counts dictionary of 153756 items\n",
      "2019-12-03 17:10:08,343 : INFO : sample=0.001 downsamples 46 most-common words\n",
      "2019-12-03 17:10:08,344 : INFO : downsampling leaves estimated 5918512 word corpus (91.2% of prior 6487294)\n",
      "2019-12-03 17:10:08,449 : INFO : estimated required memory for 34616 words and 250 dimensions: 86540000 bytes\n",
      "2019-12-03 17:10:08,450 : INFO : resetting layer weights\n",
      "2019-12-03 17:10:15,734 : INFO : training model with 8 workers on 34616 vocabulary and 250 features, using sg=0 hs=0 sample=0.001 negative=5 window=5\n",
      "2019-12-03 17:10:16,742 : INFO : EPOCH 1 - PROGRESS: at 13.98% examples, 802739 words/s, in_qsize 0, out_qsize 0\n",
      "2019-12-03 17:10:17,748 : INFO : EPOCH 1 - PROGRESS: at 29.43% examples, 850289 words/s, in_qsize 0, out_qsize 0\n",
      "2019-12-03 17:10:18,763 : INFO : EPOCH 1 - PROGRESS: at 42.41% examples, 804942 words/s, in_qsize 14, out_qsize 2\n",
      "2019-12-03 17:10:19,765 : INFO : EPOCH 1 - PROGRESS: at 57.38% examples, 818078 words/s, in_qsize 4, out_qsize 0\n",
      "2019-12-03 17:10:20,771 : INFO : EPOCH 1 - PROGRESS: at 70.22% examples, 812851 words/s, in_qsize 4, out_qsize 0\n",
      "2019-12-03 17:10:21,773 : INFO : EPOCH 1 - PROGRESS: at 83.80% examples, 824086 words/s, in_qsize 0, out_qsize 0\n",
      "2019-12-03 17:10:22,776 : INFO : EPOCH 1 - PROGRESS: at 98.00% examples, 824776 words/s, in_qsize 0, out_qsize 0\n",
      "2019-12-03 17:10:22,889 : INFO : worker thread finished; awaiting finish of 7 more threads\n",
      "2019-12-03 17:10:22,893 : INFO : worker thread finished; awaiting finish of 6 more threads\n",
      "2019-12-03 17:10:22,897 : INFO : worker thread finished; awaiting finish of 5 more threads\n",
      "2019-12-03 17:10:22,898 : INFO : worker thread finished; awaiting finish of 4 more threads\n",
      "2019-12-03 17:10:22,904 : INFO : worker thread finished; awaiting finish of 3 more threads\n",
      "2019-12-03 17:10:22,907 : INFO : worker thread finished; awaiting finish of 2 more threads\n",
      "2019-12-03 17:10:22,916 : INFO : worker thread finished; awaiting finish of 1 more threads\n",
      "2019-12-03 17:10:22,917 : INFO : worker thread finished; awaiting finish of 0 more threads\n",
      "2019-12-03 17:10:22,917 : INFO : EPOCH - 1 : training on 6636892 raw words (5917820 effective words) took 7.2s, 824283 effective words/s\n",
      "2019-12-03 17:10:23,928 : INFO : EPOCH 2 - PROGRESS: at 13.85% examples, 794141 words/s, in_qsize 0, out_qsize 1\n",
      "2019-12-03 17:10:24,935 : INFO : EPOCH 2 - PROGRESS: at 28.65% examples, 828260 words/s, in_qsize 0, out_qsize 0\n",
      "2019-12-03 17:10:25,939 : INFO : EPOCH 2 - PROGRESS: at 43.35% examples, 825647 words/s, in_qsize 2, out_qsize 0\n",
      "2019-12-03 17:10:26,954 : INFO : EPOCH 2 - PROGRESS: at 56.71% examples, 807073 words/s, in_qsize 15, out_qsize 0\n",
      "2019-12-03 17:10:27,958 : INFO : EPOCH 2 - PROGRESS: at 68.17% examples, 786566 words/s, in_qsize 13, out_qsize 0\n",
      "2019-12-03 17:10:28,983 : INFO : EPOCH 2 - PROGRESS: at 78.85% examples, 767347 words/s, in_qsize 9, out_qsize 1\n",
      "2019-12-03 17:10:29,990 : INFO : EPOCH 2 - PROGRESS: at 89.33% examples, 751711 words/s, in_qsize 12, out_qsize 0\n",
      "2019-12-03 17:10:30,858 : INFO : worker thread finished; awaiting finish of 7 more threads\n",
      "2019-12-03 17:10:30,881 : INFO : worker thread finished; awaiting finish of 6 more threads\n",
      "2019-12-03 17:10:30,883 : INFO : worker thread finished; awaiting finish of 5 more threads\n",
      "2019-12-03 17:10:30,895 : INFO : worker thread finished; awaiting finish of 4 more threads\n",
      "2019-12-03 17:10:30,915 : INFO : worker thread finished; awaiting finish of 3 more threads\n",
      "2019-12-03 17:10:30,926 : INFO : worker thread finished; awaiting finish of 2 more threads\n",
      "2019-12-03 17:10:30,936 : INFO : worker thread finished; awaiting finish of 1 more threads\n",
      "2019-12-03 17:10:30,937 : INFO : worker thread finished; awaiting finish of 0 more threads\n",
      "2019-12-03 17:10:30,938 : INFO : EPOCH - 2 : training on 6636892 raw words (5919436 effective words) took 8.0s, 738596 effective words/s\n",
      "2019-12-03 17:10:31,972 : INFO : EPOCH 3 - PROGRESS: at 10.84% examples, 617655 words/s, in_qsize 6, out_qsize 1\n",
      "2019-12-03 17:10:32,998 : INFO : EPOCH 3 - PROGRESS: at 22.01% examples, 624358 words/s, in_qsize 3, out_qsize 0\n",
      "2019-12-03 17:10:34,010 : INFO : EPOCH 3 - PROGRESS: at 35.35% examples, 669711 words/s, in_qsize 9, out_qsize 2\n",
      "2019-12-03 17:10:35,020 : INFO : EPOCH 3 - PROGRESS: at 47.38% examples, 666724 words/s, in_qsize 15, out_qsize 0\n",
      "2019-12-03 17:10:36,040 : INFO : EPOCH 3 - PROGRESS: at 61.24% examples, 694995 words/s, in_qsize 15, out_qsize 0\n",
      "2019-12-03 17:10:37,041 : INFO : EPOCH 3 - PROGRESS: at 74.58% examples, 718585 words/s, in_qsize 13, out_qsize 1\n",
      "2019-12-03 17:10:38,053 : INFO : EPOCH 3 - PROGRESS: at 87.73% examples, 734444 words/s, in_qsize 13, out_qsize 2\n",
      "2019-12-03 17:10:38,819 : INFO : worker thread finished; awaiting finish of 7 more threads\n",
      "2019-12-03 17:10:38,821 : INFO : worker thread finished; awaiting finish of 6 more threads\n",
      "2019-12-03 17:10:38,831 : INFO : worker thread finished; awaiting finish of 5 more threads\n",
      "2019-12-03 17:10:38,833 : INFO : worker thread finished; awaiting finish of 4 more threads\n",
      "2019-12-03 17:10:38,837 : INFO : worker thread finished; awaiting finish of 3 more threads\n",
      "2019-12-03 17:10:38,853 : INFO : worker thread finished; awaiting finish of 2 more threads\n",
      "2019-12-03 17:10:38,857 : INFO : worker thread finished; awaiting finish of 1 more threads\n",
      "2019-12-03 17:10:38,864 : INFO : worker thread finished; awaiting finish of 0 more threads\n",
      "2019-12-03 17:10:38,865 : INFO : EPOCH - 3 : training on 6636892 raw words (5918573 effective words) took 7.9s, 748209 effective words/s\n",
      "2019-12-03 17:10:39,882 : INFO : EPOCH 4 - PROGRESS: at 12.74% examples, 728683 words/s, in_qsize 0, out_qsize 0\n",
      "2019-12-03 17:10:40,898 : INFO : EPOCH 4 - PROGRESS: at 26.48% examples, 761003 words/s, in_qsize 0, out_qsize 0\n",
      "2019-12-03 17:10:41,900 : INFO : EPOCH 4 - PROGRESS: at 40.34% examples, 769553 words/s, in_qsize 9, out_qsize 0\n",
      "2019-12-03 17:10:42,901 : INFO : EPOCH 4 - PROGRESS: at 55.05% examples, 780860 words/s, in_qsize 14, out_qsize 1\n",
      "2019-12-03 17:10:43,902 : INFO : EPOCH 4 - PROGRESS: at 67.94% examples, 783582 words/s, in_qsize 15, out_qsize 0\n",
      "2019-12-03 17:10:44,925 : INFO : EPOCH 4 - PROGRESS: at 81.10% examples, 791299 words/s, in_qsize 14, out_qsize 1\n",
      "2019-12-03 17:10:45,944 : INFO : EPOCH 4 - PROGRESS: at 94.70% examples, 794736 words/s, in_qsize 11, out_qsize 1\n",
      "2019-12-03 17:10:46,230 : INFO : worker thread finished; awaiting finish of 7 more threads\n",
      "2019-12-03 17:10:46,231 : INFO : worker thread finished; awaiting finish of 6 more threads\n",
      "2019-12-03 17:10:46,248 : INFO : worker thread finished; awaiting finish of 5 more threads\n"
     ]
    },
    {
     "name": "stderr",
     "output_type": "stream",
     "text": [
      "2019-12-03 17:10:46,249 : INFO : worker thread finished; awaiting finish of 4 more threads\n",
      "2019-12-03 17:10:46,250 : INFO : worker thread finished; awaiting finish of 3 more threads\n",
      "2019-12-03 17:10:46,261 : INFO : worker thread finished; awaiting finish of 2 more threads\n",
      "2019-12-03 17:10:46,267 : INFO : worker thread finished; awaiting finish of 1 more threads\n",
      "2019-12-03 17:10:46,278 : INFO : worker thread finished; awaiting finish of 0 more threads\n",
      "2019-12-03 17:10:46,279 : INFO : EPOCH - 4 : training on 6636892 raw words (5918213 effective words) took 7.4s, 799195 effective words/s\n",
      "2019-12-03 17:10:47,294 : INFO : EPOCH 5 - PROGRESS: at 13.51% examples, 775936 words/s, in_qsize 6, out_qsize 0\n",
      "2019-12-03 17:10:48,296 : INFO : EPOCH 5 - PROGRESS: at 27.88% examples, 808028 words/s, in_qsize 0, out_qsize 0\n",
      "2019-12-03 17:10:49,309 : INFO : EPOCH 5 - PROGRESS: at 42.70% examples, 812791 words/s, in_qsize 1, out_qsize 0\n",
      "2019-12-03 17:10:50,317 : INFO : EPOCH 5 - PROGRESS: at 57.54% examples, 820341 words/s, in_qsize 5, out_qsize 2\n",
      "2019-12-03 17:10:51,328 : INFO : EPOCH 5 - PROGRESS: at 71.29% examples, 826161 words/s, in_qsize 9, out_qsize 0\n",
      "2019-12-03 17:10:52,335 : INFO : EPOCH 5 - PROGRESS: at 84.06% examples, 825933 words/s, in_qsize 15, out_qsize 0\n",
      "2019-12-03 17:10:53,343 : INFO : EPOCH 5 - PROGRESS: at 98.62% examples, 828268 words/s, in_qsize 8, out_qsize 1\n",
      "2019-12-03 17:10:53,355 : INFO : worker thread finished; awaiting finish of 7 more threads\n",
      "2019-12-03 17:10:53,362 : INFO : worker thread finished; awaiting finish of 6 more threads\n",
      "2019-12-03 17:10:53,371 : INFO : worker thread finished; awaiting finish of 5 more threads\n",
      "2019-12-03 17:10:53,383 : INFO : worker thread finished; awaiting finish of 4 more threads\n",
      "2019-12-03 17:10:53,386 : INFO : worker thread finished; awaiting finish of 3 more threads\n",
      "2019-12-03 17:10:53,390 : INFO : worker thread finished; awaiting finish of 2 more threads\n",
      "2019-12-03 17:10:53,401 : INFO : worker thread finished; awaiting finish of 1 more threads\n",
      "2019-12-03 17:10:53,406 : INFO : worker thread finished; awaiting finish of 0 more threads\n",
      "2019-12-03 17:10:53,407 : INFO : EPOCH - 5 : training on 6636892 raw words (5918903 effective words) took 7.1s, 831718 effective words/s\n",
      "2019-12-03 17:10:53,407 : INFO : training on a 33184460 raw words (29592945 effective words) took 37.7s, 785533 effective words/s\n",
      "2019-12-03 17:10:53,408 : INFO : saving Word2Vec object under /home/mi/github/car_abstract/output/VectorModel.model, separately None\n",
      "2019-12-03 17:10:53,409 : INFO : not storing attribute vectors_norm\n",
      "2019-12-03 17:10:53,410 : INFO : not storing attribute cum_table\n",
      "2019-12-03 17:10:54,756 : INFO : saved /home/mi/github/car_abstract/output/VectorModel.model\n"
     ]
    }
   ],
   "source": [
    "logging.basicConfig(format='%(asctime)s : %(levelname)s : %(message)s', level=logging.INFO)\n",
    "model = word2vec.Word2Vec(LineSentence(train_clean_path), workers=8, min_count=5, size=250)\n",
    "model.save(vector_path)"
   ]
  },
  {
   "cell_type": "code",
   "execution_count": 7,
   "metadata": {},
   "outputs": [
    {
     "data": {
      "text/plain": [
       "250"
      ]
     },
     "execution_count": 7,
     "metadata": {},
     "output_type": "execute_result"
    }
   ],
   "source": [
    "model.wv.vector_size"
   ]
  },
  {
   "cell_type": "code",
   "execution_count": null,
   "metadata": {},
   "outputs": [],
   "source": [
    "def get_embedding_matrix(model):\n",
    "    vector_size = len(model.wv.vocab)\n",
    "    embedding_dim = model.wv.vector_size\n",
    "    embedding_matrix = np.zeros((vector_size, embedding_dim))\n",
    "    for i in range(vector_size)"
   ]
  }
 ],
 "metadata": {
  "kernelspec": {
   "display_name": "ml_tf2",
   "language": "python",
   "name": "ml_tf2"
  },
  "language_info": {
   "codemirror_mode": {
    "name": "ipython",
    "version": 3
   },
   "file_extension": ".py",
   "mimetype": "text/x-python",
   "name": "python",
   "nbconvert_exporter": "python",
   "pygments_lexer": "ipython3",
   "version": "3.7.5"
  }
 },
 "nbformat": 4,
 "nbformat_minor": 2
}
