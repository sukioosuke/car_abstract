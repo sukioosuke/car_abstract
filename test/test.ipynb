{
 "cells": [
  {
   "cell_type": "code",
   "execution_count": 2,
   "metadata": {},
   "outputs": [],
   "source": [
    "import re\n",
    "import jieba\n",
    "import pandas as pd"
   ]
  },
  {
   "cell_type": "code",
   "execution_count": 35,
   "metadata": {},
   "outputs": [],
   "source": [
    "import pandas as pd\n",
    "import numpy as np\n",
    "import pkuseg\n",
    "import re\n",
    "from multiprocessing import Pool, Process, Manager"
   ]
  },
  {
   "cell_type": "code",
   "execution_count": 36,
   "metadata": {},
   "outputs": [],
   "source": [
    "import os\n",
    "import pathlib\n",
    "import sys\n",
    "root = pathlib.Path(os.path.abspath(os.curdir)).parent\n",
    "sys.path.append(os.path.join(root, 'src'))\n",
    "from utils.paths import *"
   ]
  },
  {
   "cell_type": "code",
   "execution_count": 5,
   "metadata": {},
   "outputs": [],
   "source": [
    "manager = Manager()\n",
    "lock = manager.Lock()\n",
    "stop_words = []\n",
    "less_use = []\n",
    "vocabulary = manager.dict()\n",
    "MIN_COUNT = 5"
   ]
  },
  {
   "cell_type": "code",
   "execution_count": 37,
   "metadata": {},
   "outputs": [],
   "source": [
    "def cut_words(sentence):\n",
    "    cut = []\n",
    "    seg = pkuseg.pkuseg(model_name='default', user_dict=user_dict_path)\n",
    "#    clean = re.sub(\n",
    "#            r'[\\u3002|\\uff1f|\\uff01|\\uff0c|\\u3001|\\uff1b|\\uff1a|\\u201c|\\u201d|\\u2018|\\u2019|\\uff08|\\uff09|\\u300a|\\u300b|\\u3008|\\u3009|\\u3010|\\u3011|\\u300e|\\u300f|\\u300c|\\u300d|\\ufe43|\\ufe44|\\u3014|\\u3015|\\u2026|\\u2014|\\uff5e|\\ufe4f|\\uffe5]|[\\s+\\-\\|\\!\\/\\[\\]\\{\\}_,.$%^*(+\\\"\\')]+|[:：+——()?【】“”！，。？、~@#￥%……&*（）]+|车主说|技师说|语音|图片|你好|您好',\n",
    "#            ' ', sentence)\n",
    "#    for j in seg.cut(clean):\n",
    "#        with lock:\n",
    "#            if j in vocabulary.keys():\n",
    "#                vocabulary[j] += 1\n",
    "#                cut.append(j)\n",
    "#            elif j not in stop_words:\n",
    "#                vocabulary[j] = 1\n",
    "#                cut.append(j)\n",
    "    return ' '.join(seg.cut(sentence))"
   ]
  },
  {
   "cell_type": "code",
   "execution_count": 7,
   "metadata": {},
   "outputs": [
    {
     "name": "stdout",
     "output_type": "stream",
     "text": [
      "到 吃 晚饭 的 时间 了\n"
     ]
    }
   ],
   "source": [
    "print(cut_words(\"到吃晚饭的时间了！\"))"
   ]
  },
  {
   "cell_type": "code",
   "execution_count": 32,
   "metadata": {},
   "outputs": [],
   "source": [
    "def dataframe_proc(df):\n",
    "    for col_name in df.columns:\n",
    "        df[col_name] = df[col_name].apply(cut_words)\n",
    "    \n",
    "    return df"
   ]
  },
  {
   "cell_type": "code",
   "execution_count": null,
   "metadata": {},
   "outputs": [],
   "source": [
    "def filter_lessuse(df):\n",
    "    "
   ]
  },
  {
   "cell_type": "code",
   "execution_count": 33,
   "metadata": {},
   "outputs": [],
   "source": [
    "def set_vocabulary(dataframe, partitions=8):\n",
    "    df = pd.DataFrame\n",
    "    data_split = np.array_split(dataframe, partitions)\n",
    "    pool = Pool(partitions)\n",
    "    data = pd.concat(pool.map(dataframe_proc, data_split))\n",
    "    \n",
    "    pool.close()\n",
    "    pool.join()\n",
    "    return data"
   ]
  },
  {
   "cell_type": "code",
   "execution_count": 10,
   "metadata": {},
   "outputs": [],
   "source": [
    "def remove_pic_and_sound(line):\n",
    "    content = filter(lambda x: not x.__contains__('[语音]') and not x.__contains__('[图片]'), line.split('|'))\n",
    "    return '|'.join(content)"
   ]
  },
  {
   "cell_type": "code",
   "execution_count": 11,
   "metadata": {},
   "outputs": [],
   "source": [
    "train_file = pd.read_csv('../data/AutoMaster_TrainSet.csv', encoding='utf-8')\n",
    "test_file = pd.read_csv('../data/AutoMaster_TestSet.csv', encoding='utf-8')\n",
    "\n",
    "train_content = train_file.dropna().drop(\"QID\", axis=1)\n",
    "test_content = test_file.dropna().drop(\"QID\", axis=1)\n",
    "\n",
    "train_content['Dialogue'] = train_content['Dialogue'].apply(remove_pic_and_sound)\n",
    "test_content['Dialogue'] = test_content['Dialogue'].apply(remove_pic_and_sound)"
   ]
  },
  {
   "cell_type": "markdown",
   "metadata": {},
   "source": [
    "# tensorflow "
   ]
  },
  {
   "cell_type": "code",
   "execution_count": 1,
   "metadata": {},
   "outputs": [],
   "source": [
    "import tensorflow as tf"
   ]
  },
  {
   "cell_type": "code",
   "execution_count": 2,
   "metadata": {},
   "outputs": [
    {
     "data": {
      "text/plain": [
       "'2.0.0'"
      ]
     },
     "execution_count": 2,
     "metadata": {},
     "output_type": "execute_result"
    }
   ],
   "source": [
    "tf.__version__"
   ]
  },
  {
   "cell_type": "code",
   "execution_count": 3,
   "metadata": {},
   "outputs": [],
   "source": [
    "import tensorboard as tb"
   ]
  },
  {
   "cell_type": "code",
   "execution_count": 4,
   "metadata": {},
   "outputs": [
    {
     "data": {
      "text/plain": [
       "'2.0.0'"
      ]
     },
     "execution_count": 4,
     "metadata": {},
     "output_type": "execute_result"
    }
   ],
   "source": [
    "tb.__version__"
   ]
  },
  {
   "cell_type": "code",
   "execution_count": 5,
   "metadata": {},
   "outputs": [],
   "source": [
    "a = tf.constant(2, name='a')\n",
    "b = tf.constant(3, name='b')\n",
    "x = tf.add(a, b)"
   ]
  },
  {
   "cell_type": "code",
   "execution_count": 13,
   "metadata": {},
   "outputs": [],
   "source": [
    "s = tf.Variable(2, name='s')\n",
    "m = tf.Variable([[0, 2], [4, 8]], name='matrix')\n",
    "w = tf.Variable(tf.zeros([256,512]))"
   ]
  },
  {
   "cell_type": "code",
   "execution_count": 20,
   "metadata": {},
   "outputs": [
    {
     "data": {
      "text/plain": [
       "<tf.Variable 'UnreadVariable' shape=(2, 2) dtype=int32, numpy=\n",
       "array([[0, 1],\n",
       "       [2, 3]], dtype=int32)>"
      ]
     },
     "execution_count": 20,
     "metadata": {},
     "output_type": "execute_result"
    }
   ],
   "source": [
    "m.assign([[0, 1], [2, 3]])"
   ]
  }
 ],
 "metadata": {
  "kernelspec": {
   "display_name": "ml_tf2",
   "language": "python",
   "name": "ml_tf2"
  },
  "language_info": {
   "codemirror_mode": {
    "name": "ipython",
    "version": 3
   },
   "file_extension": ".py",
   "mimetype": "text/x-python",
   "name": "python",
   "nbconvert_exporter": "python",
   "pygments_lexer": "ipython3",
   "version": "3.7.5"
  }
 },
 "nbformat": 4,
 "nbformat_minor": 2
}
